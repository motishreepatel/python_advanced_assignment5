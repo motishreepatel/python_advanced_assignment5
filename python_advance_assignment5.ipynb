{
 "cells": [
  {
   "cell_type": "code",
   "execution_count": 1,
   "metadata": {},
   "outputs": [
    {
     "name": "stdout",
     "output_type": "stream",
     "text": [
      "BaseClass1 method\n",
      "BaseClass2 method\n",
      "DerivedClass method\n"
     ]
    }
   ],
   "source": [
    "#Q1: What is the meaning of multiple inheritance?\n",
    "#Answer:\n",
    "'''Multiple inheritance is a feature of object-oriented programming that allows a class to inherit attributes and behaviors from more than one \n",
    "parent class. In multiple inheritance, a class can have multiple superclasses, and it inherits characteristics from all of them.\n",
    "\n",
    "In Python, a class that inherits from multiple parent classes is referred to as a derived class or subclass, and the parent classes are \n",
    "called base classes or superclasses. The derived class inherits attributes, methods, and behavior from all the base classes.\n",
    "\n",
    "The main advantage of multiple inheritance is that it allows the derived class to combine features and functionalities from different \n",
    "parent classes, promoting code reuse and modularity. This means that the derived class can inherit and use attributes and methods from \n",
    "all the base classes, allowing for greater flexibility and expressive power in class design. '''\n",
    "\n",
    "#Exp:\n",
    "class BaseClass1:\n",
    "    def method1(self):\n",
    "        print(\"BaseClass1 method\")\n",
    "\n",
    "class BaseClass2:\n",
    "    def method2(self):\n",
    "        print(\"BaseClass2 method\")\n",
    "\n",
    "class DerivedClass(BaseClass1, BaseClass2):\n",
    "    def method3(self):\n",
    "        print(\"DerivedClass method\")\n",
    "\n",
    "# Creating an instance of the derived class\n",
    "obj = DerivedClass()\n",
    "\n",
    "# Calling methods from both base classes\n",
    "obj.method1()\n",
    "obj.method2()\n",
    "obj.method3()\n"
   ]
  },
  {
   "cell_type": "code",
   "execution_count": 2,
   "metadata": {},
   "outputs": [
    {
     "name": "stdout",
     "output_type": "stream",
     "text": [
      "Document processing...\n",
      "LaserJet 500 is printing: Report.pdf\n"
     ]
    }
   ],
   "source": [
    "#Q2 - What is the concept of delegation?\n",
    "#Answer:\n",
    "'''The concept of delegation in object-oriented programming involves one object assigning a task or responsibility to another object to perform \n",
    "on its behalf. Instead of inheriting behavior or attributes directly, an object delegates the task to another object that is specifically \n",
    "designed to handle it.\n",
    "\n",
    "Delegation promotes code reusability, modularity, and flexibility. It allows objects to collaborate and divide responsibilities effectively, \n",
    "focusing on their specific areas of expertise. Delegation is often used as an alternative to inheritance when the relationship between objects \n",
    "is more of a \"has-a\" rather than an \"is-a\" relationship.'''\n",
    "\n",
    "#Exp:\n",
    "class Printer:\n",
    "    def __init__(self, name):\n",
    "        self.name = name\n",
    "    \n",
    "    def print_document(self, document):\n",
    "        print(f\"{self.name} is printing: {document}\")\n",
    "\n",
    "class Office:\n",
    "    def __init__(self):\n",
    "        self.printer = Printer(\"LaserJet 500\")\n",
    "\n",
    "    def process_document(self, document):\n",
    "        print(\"Document processing...\")\n",
    "        self.printer.print_document(document)\n",
    "\n",
    "# Creating an instance of the Office class\n",
    "office = Office()\n",
    "\n",
    "# Processing and printing a document\n",
    "office.process_document(\"Report.pdf\")\n"
   ]
  },
  {
   "cell_type": "code",
   "execution_count": 3,
   "metadata": {},
   "outputs": [
    {
     "name": "stdout",
     "output_type": "stream",
     "text": [
      "Starting the car...\n",
      "Engine started\n",
      "Car started\n"
     ]
    }
   ],
   "source": [
    "#Q3. What is the concept of composition?\n",
    "#Answer:\n",
    "'''The concept of composition in object-oriented programming involves constructing complex objects by combining or composing simpler objects. \n",
    "Composition allows objects to be assembled to create more complex structures or behaviors by integrating multiple components into a \n",
    "single cohesive unit.\n",
    "\n",
    "In composition, an object includes other objects as its parts or components, and these parts are responsible for specific aspects of \n",
    "the object's functionality. The composed object delegates tasks to its component objects, which encapsulate specialized functionality.\n",
    "\n",
    "Composition promotes code reuse, modularity, and flexibility. It enables the creation of complex systems by combining smaller, reusable \n",
    "components, and it allows objects to be easily modified or extended without affecting the entire system.'''\n",
    "\n",
    "#Exp:\n",
    "class Engine:\n",
    "    def start(self):\n",
    "        print(\"Engine started\")\n",
    "\n",
    "class Car:\n",
    "    def __init__(self):\n",
    "        self.engine = Engine()\n",
    "\n",
    "    def start(self):\n",
    "        print(\"Starting the car...\")\n",
    "        self.engine.start()\n",
    "        print(\"Car started\")\n",
    "\n",
    "# Creating an instance of the Car class\n",
    "car = Car()\n",
    "\n",
    "# Starting the car\n",
    "car.start()\n"
   ]
  },
  {
   "cell_type": "code",
   "execution_count": 5,
   "metadata": {},
   "outputs": [
    {
     "name": "stdout",
     "output_type": "stream",
     "text": [
      "Instance method called\n"
     ]
    }
   ],
   "source": [
    "#Q4. What are bound methods and how do we use them?\n",
    "#Answer:\n",
    "'''Bound methods are methods that are bound to an instance of a class. When a method is bound to an instance, it can be called on that specific \n",
    "instance, and the instance is automatically passed as the first argument (self parameter) to the method.\n",
    "\n",
    "Bound methods are the primary way to invoke instance methods in Python. When you define a class and create an instance of that class, \n",
    "the instance automatically has bound methods associated with it. When you call a method on the instance, Python handles the binding process \n",
    "by passing the instance as the first argument. '''\n",
    "\n",
    "#Exp:\n",
    "class MyClass:\n",
    "    def method(self):\n",
    "        print(\"Instance method called\")\n",
    "\n",
    "# Creating an instance of the class\n",
    "my_instance = MyClass()\n",
    "\n",
    "# Calling the bound method on the instance\n",
    "my_instance.method()\n"
   ]
  },
  {
   "cell_type": "code",
   "execution_count": 6,
   "metadata": {},
   "outputs": [
    {
     "name": "stdout",
     "output_type": "stream",
     "text": [
      "Private attribute\n",
      "Modified private attribute\n",
      "Modified private attribute\n"
     ]
    }
   ],
   "source": [
    "#Q5 - What is the purpose of pseudoprivate attributes?\n",
    "#Answer:\n",
    "'''Pseudoprivate attributes in Python are a convention for naming attributes with a double underscore prefix (__). These attributes are intended \n",
    "to be private or inaccessible outside the class that defines them. However, unlike true private attributes, pseudoprivate attributes can \n",
    "still be accessed and modified from outside the class.\n",
    "\n",
    "The purpose of pseudoprivate attributes is to provide a way for class authors to signal that an attribute is intended for internal use \n",
    "within the class. It serves as a naming convention to discourage external usage and to indicate that the attribute is not part of the \n",
    "public interface of the class.\n",
    "\n",
    "By using pseudoprivate attributes, class authors can convey to users of the class that certain attributes should not be accessed directly. \n",
    "It helps to prevent accidental or unintended modifications to the internal state of the class, encouraging users to interact with the \n",
    "class through its defined public methods and properties. '''\n",
    "\n",
    "#Answer:\n",
    "class MyClass:\n",
    "    def __init__(self):\n",
    "        self.__private_attribute = \"Private attribute\"\n",
    "        self.__another_private_attribute = \"Another private attribute\"\n",
    "\n",
    "    def public_method(self):\n",
    "        print(self.__private_attribute)\n",
    "\n",
    "# Creating an instance of the class\n",
    "my_instance = MyClass()\n",
    "\n",
    "# Accessing the pseudoprivate attribute\n",
    "print(my_instance._MyClass__private_attribute)  # Output: Private attribute\n",
    "\n",
    "# Modifying the pseudoprivate attribute\n",
    "my_instance._MyClass__private_attribute = \"Modified private attribute\"\n",
    "print(my_instance._MyClass__private_attribute)  # Output: Modified private attribute\n",
    "\n",
    "# Calling a public method that accesses the pseudoprivate attribute\n",
    "my_instance.public_method()\n"
   ]
  },
  {
   "cell_type": "code",
   "execution_count": null,
   "metadata": {},
   "outputs": [],
   "source": []
  }
 ],
 "metadata": {
  "kernelspec": {
   "display_name": "Python 3.9.6 64-bit",
   "language": "python",
   "name": "python3"
  },
  "language_info": {
   "codemirror_mode": {
    "name": "ipython",
    "version": 3
   },
   "file_extension": ".py",
   "mimetype": "text/x-python",
   "name": "python",
   "nbconvert_exporter": "python",
   "pygments_lexer": "ipython3",
   "version": "3.9.6"
  },
  "orig_nbformat": 4,
  "vscode": {
   "interpreter": {
    "hash": "31f2aee4e71d21fbe5cf8b01ff0e069b9275f58929596ceb00d14d90e3e16cd6"
   }
  }
 },
 "nbformat": 4,
 "nbformat_minor": 2
}
